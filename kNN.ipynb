{
 "cells": [
  {
   "cell_type": "markdown",
   "metadata": {
    "colab_type": "text",
    "id": "2MIfrsCxq7a6"
   },
   "source": [
    "# **Importing Libraries**"
   ]
  },
  {
   "cell_type": "code",
   "execution_count": 0,
   "metadata": {
    "colab": {},
    "colab_type": "code",
    "id": "myv4oXp7p-zT"
   },
   "outputs": [],
   "source": [
    "import pandas as pd\n",
    "import numpy as np\n",
    "from sklearn.model_selection import train_test_split"
   ]
  },
  {
   "cell_type": "markdown",
   "metadata": {
    "colab_type": "text",
    "id": "JCpRHClAq-O3"
   },
   "source": [
    "# **Loading Data**"
   ]
  },
  {
   "cell_type": "code",
   "execution_count": 0,
   "metadata": {
    "colab": {},
    "colab_type": "code",
    "id": "KufLoK8Tn0oU"
   },
   "outputs": [],
   "source": [
    "df = pd.read_csv(\"irisdata.csv\")"
   ]
  },
  {
   "cell_type": "markdown",
   "metadata": {
    "colab_type": "text",
    "id": "PQXGrS0aqFos"
   },
   "source": [
    "## Enter the fraction of dataset to be used for testing (evaluation) "
   ]
  },
  {
   "cell_type": "code",
   "execution_count": 0,
   "metadata": {
    "colab": {},
    "colab_type": "code",
    "id": "0YkHq0v0qOwh"
   },
   "outputs": [],
   "source": [
    "test_frac = 0.3"
   ]
  },
  {
   "cell_type": "code",
   "execution_count": 0,
   "metadata": {
    "colab": {},
    "colab_type": "code",
    "id": "1Z-28txmp-U5"
   },
   "outputs": [],
   "source": [
    "p = 0.35\n",
    "train, test = train_test_split(df.to_numpy(), test_size = test_frac)\n",
    "train_data = train[:,0:4]\n",
    "train_class = train[:,4]\n",
    "test_data = test[:,0:4]\n",
    "test_class = test[:,4]"
   ]
  },
  {
   "cell_type": "markdown",
   "metadata": {
    "colab_type": "text",
    "id": "YT4InJIOqUPj"
   },
   "source": [
    "# **Functions Definitions**"
   ]
  },
  {
   "cell_type": "code",
   "execution_count": 0,
   "metadata": {
    "colab": {},
    "colab_type": "code",
    "id": "koM8xktwqThu"
   },
   "outputs": [],
   "source": [
    "def euclideanDistance(x,y):\n",
    "  distance = 0\n",
    "  for i in range(x.size):\n",
    "    distance += (x[i] - y[i])**2\n",
    "  return np.sqrt(distance)\n",
    "\n",
    "def first_comes_first(arr,x):\n",
    "    arr[1:] = arr[0:-1]\n",
    "    arr[0] = x\n",
    "    return arr\n",
    "\n",
    "def kNN(test_data,train_data,train_class,k):\n",
    "  test_pred = np.zeros(test_data.shape[0])\n",
    "  for i in range(test_data.shape[0]):\n",
    "    dist_arr = np.asarray(np.zeros(k))\n",
    "    nearest = np.asarray(np.zeros(k))\n",
    "    ret_arr = np.array([])\n",
    "    for j in range(k):\n",
    "      dist_arr[j] = euclideanDistance(train_data[j],test_data[i])\n",
    "      nearest[j]=j\n",
    "\n",
    "    for j in range(train_data.shape[0]):\n",
    "      temp_dist = euclideanDistance(test_data[i],train_data[j])\n",
    "      if(temp_dist <= np.amin(dist_arr)):\n",
    "        dist_arr = first_comes_first(dist_arr,temp_dist)\n",
    "        nearest = first_comes_first(nearest,j)\n",
    "\n",
    "    for j in (nearest):\n",
    "      ret_arr = np.append(ret_arr,train_class[int(j)])\n",
    "    ret_arr = np.array([int(q) for q in ret_arr])\n",
    "    test_pred[i] = np.argmax(np.bincount(ret_arr))\n",
    "\n",
    "  return test_pred\n",
    "\n",
    "def getAccuracy(testSet, predictions):\n",
    "  correct = 0\n",
    "  testSet = np.array(testSet)\n",
    "  for x in range(testSet.shape[0]):\n",
    "    if (testSet[x] == predictions[x]):\n",
    "      correct += 1\n",
    "  return (correct/float(testSet.shape[0])) * 100.0"
   ]
  },
  {
   "cell_type": "markdown",
   "metadata": {
    "colab_type": "text",
    "id": "U7PfP1jWqa1Y"
   },
   "source": [
    "## Enter k value to be used in k-NN algorithm"
   ]
  },
  {
   "cell_type": "code",
   "execution_count": 0,
   "metadata": {
    "colab": {},
    "colab_type": "code",
    "id": "O8X_gxvsqfll"
   },
   "outputs": [],
   "source": [
    "k = 3"
   ]
  },
  {
   "cell_type": "code",
   "execution_count": 11,
   "metadata": {
    "colab": {
     "base_uri": "https://localhost:8080/",
     "height": 34
    },
    "colab_type": "code",
    "id": "s83TUQORqYTA",
    "outputId": "41fb61b9-7aa4-4fa6-f6e3-796f8f9341d2"
   },
   "outputs": [
    {
     "name": "stdout",
     "output_type": "stream",
     "text": [
      "95.55555555555556\n"
     ]
    }
   ],
   "source": [
    "test_pred = kNN(test_data, train_data, train_class, 3)\n",
    "acc = getAccuracy(test_class, test_pred)\n",
    "print(acc)"
   ]
  },
  {
   "cell_type": "markdown",
   "metadata": {
    "colab_type": "text",
    "id": "sD9FUVAYql28"
   },
   "source": [
    "## **Evaluating Results for k = 3,5**"
   ]
  },
  {
   "cell_type": "code",
   "execution_count": 12,
   "metadata": {
    "colab": {
     "base_uri": "https://localhost:8080/",
     "height": 52
    },
    "colab_type": "code",
    "id": "WkafRfR8qo3s",
    "outputId": "005fce7c-3160-42cd-8291-23e21a2a3739"
   },
   "outputs": [
    {
     "name": "stdout",
     "output_type": "stream",
     "text": [
      "Accuracy for k=3 = 95.55555555555556\n",
      "Accuracy for k=5 = 95.55555555555556\n"
     ]
    }
   ],
   "source": [
    "k = np.array([3,5])\n",
    "acc_arr = np.zeros(k.size)\n",
    "for i in range(k.size):\n",
    "  test_pred = kNN(test_data, train_data, train_class, k[i])\n",
    "  acc_arr[i] = getAccuracy(test_pred, test_class)\n",
    "  print(\"Accuracy for k={} = {}\".format(k[i],acc_arr[i]))\n"
   ]
  },
  {
   "cell_type": "markdown",
   "metadata": {
    "colab_type": "text",
    "id": "Fq1nWWIHruh9"
   },
   "source": [
    "# **Inferences**\n",
    "\n",
    "1. Knn classifier can use k number of neighbors. Higher value of k leads to inclination towards most probable case (we can call prior classifier) which can sometimes lead to poor performance. Lower value of k causes unstable decision boundary for which classifier accuracy can drastically change.So it's best to sweep k for a significant range and see what is the optimal accuracy we can get.\n",
    "\n",
    "2. Here we tried with K=3 and k=5; the accuracy is comparable and not significantly different in case of k = 3 and k = 5. \n",
    "\n",
    "3. It is observed that the initial seeding does have influence on the final accuracy. Lesser number of test data points on boundary better is the accuracy and vice-versa.\n",
    "\n",
    "4. Thus, by k-NN method we can separate classes which are not linearly separable."
   ]
  }
 ],
 "metadata": {
  "colab": {
   "collapsed_sections": [],
   "name": "Question_8.ipynb",
   "provenance": [],
   "toc_visible": true
  },
  "kernelspec": {
   "display_name": "Python 3",
   "language": "python",
   "name": "python3"
  },
  "language_info": {
   "codemirror_mode": {
    "name": "ipython",
    "version": 3
   },
   "file_extension": ".py",
   "mimetype": "text/x-python",
   "name": "python",
   "nbconvert_exporter": "python",
   "pygments_lexer": "ipython3",
   "version": "3.6.5"
  }
 },
 "nbformat": 4,
 "nbformat_minor": 1
}
